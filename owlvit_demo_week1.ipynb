{
  "cells": [
    {
      "cell_type": "markdown",
      "metadata": {
        "id": "view-in-github",
        "colab_type": "text"
      },
      "source": [
        "<a href=\"https://colab.research.google.com/github/adams-x0/cv_project/blob/main/owlvit_demo_week1.ipynb\" target=\"_parent\"><img src=\"https://colab.research.google.com/assets/colab-badge.svg\" alt=\"Open In Colab\"/></a>"
      ]
    },
    {
      "cell_type": "code",
      "execution_count": null,
      "metadata": {
        "id": "0LZ2QqvVSe2F"
      },
      "outputs": [],
      "source": [
        "!pip install transformers torch torchvision opencv-python\n",
        "!pip install matplotlib\n"
      ]
    },
    {
      "cell_type": "code",
      "execution_count": null,
      "metadata": {
        "id": "vPPJkrciSnkF"
      },
      "outputs": [],
      "source": [
        "from transformers import OwlViTProcessor, OwlViTForObjectDetection\n",
        "from PIL import Image\n",
        "import requests\n",
        "\n",
        "# Load OWL-ViT processor and model\n",
        "processor = OwlViTProcessor.from_pretrained(\"google/owlvit-base-patch32\")\n",
        "model = OwlViTForObjectDetection.from_pretrained(\"google/owlvit-base-patch32\")\n"
      ]
    },
    {
      "cell_type": "code",
      "execution_count": null,
      "metadata": {
        "id": "wllYcPXcS7Rc"
      },
      "outputs": [],
      "source": [
        "url = \"https://images.unsplash.com/photo-1593642634315-48f5414c3ad9\"  # example image\n",
        "image = Image.open(requests.get(url, stream=True).raw)\n",
        "image.show()\n"
      ]
    },
    {
      "cell_type": "code",
      "execution_count": null,
      "metadata": {
        "id": "dvTohWb4Tbq_"
      },
      "outputs": [],
      "source": [
        "texts = [[\"laptop\", \"person\", \"dog\"]]  # list of objects you want to detect\n"
      ]
    },
    {
      "cell_type": "code",
      "execution_count": null,
      "metadata": {
        "id": "KKrR3ZqwTg9d"
      },
      "outputs": [],
      "source": [
        "import torch\n",
        "\n",
        "inputs = processor(text=texts, images=image, return_tensors=\"pt\")\n",
        "outputs = model(**inputs)\n",
        "\n",
        "# Post-process boxes\n",
        "target_sizes = torch.tensor([image.size[::-1]])  # width, height\n",
        "results = processor.post_process_object_detection(outputs=outputs, target_sizes=target_sizes)[0]\n",
        "\n",
        "# Show detected objects\n",
        "for score, label, box in zip(results[\"scores\"], results[\"labels\"], results[\"boxes\"]):\n",
        "    if score > 0.3:\n",
        "        print(f\"Detected {texts[0][label]} with score {score:.2f} at {box}\")\n"
      ]
    },
    {
      "cell_type": "code",
      "execution_count": null,
      "metadata": {
        "id": "WsHyO8yTT0Fh"
      },
      "outputs": [],
      "source": [
        "import matplotlib.pyplot as plt\n",
        "import matplotlib.patches as patches\n",
        "\n",
        "plt.figure(figsize=(10,10))\n",
        "plt.imshow(image)\n",
        "ax = plt.gca()\n",
        "\n",
        "for score, label, box in zip(results[\"scores\"], results[\"labels\"], results[\"boxes\"]):\n",
        "    if score > 0.3:\n",
        "        box = box.detach().cpu().numpy()\n",
        "        x0, y0, x1, y1 = box\n",
        "        rect = patches.Rectangle((x0, y0), x1-x0, y1-y0, linewidth=2, edgecolor='red', facecolor='none')\n",
        "        ax.add_patch(rect)\n",
        "        ax.text(x0, y0-5, f\"{texts[0][label]} {score:.2f}\", color='red', fontsize=12)\n",
        "\n",
        "plt.show()\n"
      ]
    }
  ],
  "metadata": {
    "colab": {
      "provenance": [],
      "include_colab_link": true
    },
    "kernelspec": {
      "display_name": "Python 3",
      "name": "python3"
    },
    "language_info": {
      "name": "python"
    }
  },
  "nbformat": 4,
  "nbformat_minor": 0
}